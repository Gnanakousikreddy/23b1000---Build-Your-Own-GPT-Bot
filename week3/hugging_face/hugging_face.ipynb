{
 "cells": [
  {
   "cell_type": "code",
   "execution_count": 5,
   "id": "b4a89568",
   "metadata": {},
   "outputs": [],
   "source": [
    "from transformers import pipeline"
   ]
  },
  {
   "cell_type": "code",
   "execution_count": 7,
   "id": "bdf6bda4",
   "metadata": {},
   "outputs": [
    {
     "name": "stderr",
     "output_type": "stream",
     "text": [
      "No model was supplied, defaulted to distilbert/distilbert-base-uncased-finetuned-sst-2-english and revision 714eb0f (https://huggingface.co/distilbert/distilbert-base-uncased-finetuned-sst-2-english).\n",
      "Using a pipeline without specifying a model name and revision in production is not recommended.\n",
      "Device set to use cpu\n"
     ]
    },
    {
     "name": "stdout",
     "output_type": "stream",
     "text": [
      "[{'label': 'POSITIVE', 'score': 0.9998778104782104}]\n"
     ]
    }
   ],
   "source": [
    "classfier = pipeline(\"sentiment-analysis\")\n",
    "res = classfier(\"I loved this movie.\")\n",
    "print(res)"
   ]
  },
  {
   "cell_type": "code",
   "execution_count": 8,
   "id": "1fee0c9c",
   "metadata": {},
   "outputs": [
    {
     "name": "stderr",
     "output_type": "stream",
     "text": [
      "Device set to use cpu\n",
      "Truncation was not explicitly activated but `max_length` is provided a specific value, please use `truncation=True` to explicitly truncate examples to max length. Defaulting to 'longest_first' truncation strategy. If you encode pairs of sequences (GLUE-style) with the tokenizer you can select this strategy more precisely by providing a specific strategy to `truncation`.\n",
      "Setting `pad_token_id` to `eos_token_id`:50256 for open-end generation.\n",
      "Both `max_new_tokens` (=256) and `max_length`(=30) seem to have been set. `max_new_tokens` will take precedence. Please refer to the documentation for more information. (https://huggingface.co/docs/transformers/main/en/main_classes/text_generation)\n"
     ]
    },
    {
     "name": "stdout",
     "output_type": "stream",
     "text": [
      "[{'generated_text': 'In this course, we will teach you how to change your mind and learn to move quickly. We will teach you how to change your mind and learn to move quickly.'}, {'generated_text': 'In this course, we will teach you how to do this with the tools to automate the tasks of a single project. Because it is an interactive course, we will create a simple, self-contained course that takes all of your time to learn how to be a part of a project.\\n\\n\\n\\n\\nIf you want to learn more about how to do this, you can follow me on Twitter.\\nLike this: Like Loading...'}]\n"
     ]
    }
   ],
   "source": [
    "generator = pipeline('text-generation', model = 'distilgpt2')\n",
    "\n",
    "res = generator(\n",
    "    \"In this course, we will teach you how to\",\n",
    "    max_length = 30,\n",
    "    num_return_sequences = 2,\n",
    ")\n",
    "print(res)"
   ]
  },
  {
   "cell_type": "code",
   "execution_count": 9,
   "id": "fe2c1b3f",
   "metadata": {},
   "outputs": [
    {
     "name": "stderr",
     "output_type": "stream",
     "text": [
      "No model was supplied, defaulted to facebook/bart-large-mnli and revision d7645e1 (https://huggingface.co/facebook/bart-large-mnli).\n",
      "Using a pipeline without specifying a model name and revision in production is not recommended.\n",
      "Device set to use cpu\n"
     ]
    },
    {
     "name": "stdout",
     "output_type": "stream",
     "text": [
      "{'sequence': 'This is a course about python list comprehension', 'labels': ['education', 'business', 'politics'], 'scores': [0.9479551911354065, 0.03832835331559181, 0.01371647696942091]}\n"
     ]
    }
   ],
   "source": [
    "classifier2 = pipeline('zero-shot-classification')\n",
    "\n",
    "res = classifier2(\n",
    "    \"This is a course about python list comprehension\",\n",
    "    candidate_labels = ['education', 'politics', 'business']\n",
    ")\n",
    "\n",
    "print(res)"
   ]
  },
  {
   "cell_type": "code",
   "execution_count": 10,
   "id": "002cdfb8",
   "metadata": {},
   "outputs": [
    {
     "name": "stderr",
     "output_type": "stream",
     "text": [
      "Device set to use cpu\n"
     ]
    },
    {
     "name": "stdout",
     "output_type": "stream",
     "text": [
      "[{'label': 'POSITIVE', 'score': 0.9998757839202881}]\n"
     ]
    }
   ],
   "source": [
    "from transformers import AutoTokenizer, AutoModelForSequenceClassification\n",
    "\n",
    "model_name = 'distilbert-base-uncased-finetuned-sst-2-english'\n",
    "model = AutoModelForSequenceClassification.from_pretrained(model_name)\n",
    "tokenizer = AutoTokenizer.from_pretrained(model_name)\n",
    "\n",
    "classifier = pipeline('sentiment-analysis', model = model, tokenizer = tokenizer)\n",
    "res = classifier(\"I loved this movie\")\n",
    "print(res)"
   ]
  },
  {
   "cell_type": "code",
   "execution_count": 11,
   "id": "a86e59fc",
   "metadata": {},
   "outputs": [
    {
     "name": "stdout",
     "output_type": "stream",
     "text": [
      "{'input_ids': [101, 2478, 1037, 10938, 2121, 2897, 2003, 3722, 102], 'attention_mask': [1, 1, 1, 1, 1, 1, 1, 1, 1]}\n",
      "['using', 'a', 'transform', '##er', 'network', 'is', 'simple']\n",
      "[2478, 1037, 10938, 2121, 2897, 2003, 3722]\n",
      "using a transformer network is simple\n"
     ]
    }
   ],
   "source": [
    "sequence = \"Using a transformer network is simple\"\n",
    "res = tokenizer(sequence)\n",
    "print(res)\n",
    "tokens = tokenizer.tokenize(sequence)\n",
    "print(tokens)\n",
    "ids = tokenizer.convert_tokens_to_ids(tokens)\n",
    "print(ids)\n",
    "decoded_string = tokenizer.decode(ids)\n",
    "print(decoded_string)"
   ]
  },
  {
   "cell_type": "code",
   "execution_count": 12,
   "id": "f9e20f47",
   "metadata": {},
   "outputs": [],
   "source": [
    "import torch \n",
    "import torch.nn.functional as F"
   ]
  },
  {
   "cell_type": "code",
   "execution_count": 13,
   "id": "e1d9ad76",
   "metadata": {},
   "outputs": [
    {
     "name": "stdout",
     "output_type": "stream",
     "text": [
      "[{'label': 'POSITIVE', 'score': 0.9998657703399658}, {'label': 'POSITIVE', 'score': 0.9998533725738525}]\n",
      "{'input_ids': tensor([[  101,  1045,  3866,  1996,  3185,   102,     0],\n",
      "        [  101,  4083, 17953,  2361,  2003,  2307,   102]]), 'attention_mask': tensor([[1, 1, 1, 1, 1, 1, 0],\n",
      "        [1, 1, 1, 1, 1, 1, 1]])}\n"
     ]
    }
   ],
   "source": [
    "x_train = ['i loved the movie',\n",
    "            'learning NLP is great']\n",
    "\n",
    "result = classfier(x_train)\n",
    "print(result)\n",
    "\n",
    "batch = tokenizer(x_train, padding=True, truncation=True, max_length=512, return_tensors='pt')\n",
    "print(batch)"
   ]
  },
  {
   "cell_type": "code",
   "execution_count": 14,
   "id": "7386107c",
   "metadata": {},
   "outputs": [
    {
     "name": "stdout",
     "output_type": "stream",
     "text": [
      "SequenceClassifierOutput(loss=None, logits=tensor([[-4.2879,  4.6284],\n",
      "        [-4.2315,  4.5960]]), hidden_states=None, attentions=None)\n",
      "tensor([[1.3416e-04, 9.9987e-01],\n",
      "        [1.4662e-04, 9.9985e-01]])\n",
      "tensor([1, 1])\n"
     ]
    }
   ],
   "source": [
    "with torch.no_grad() :\n",
    "    outputs = model(**batch)\n",
    "    print(outputs)\n",
    "    predictions = F.softmax(outputs.logits, dim =1)\n",
    "    print(predictions)\n",
    "    labels = torch.argmax(predictions, dim = 1)\n",
    "    print(labels)"
   ]
  },
  {
   "cell_type": "code",
   "execution_count": 16,
   "id": "1fc58e40",
   "metadata": {},
   "outputs": [],
   "source": [
    "save_directory = './'\n",
    "tokenizer.save_pretrained(save_directory)\n",
    "model.save_pretrained(save_directory)\n",
    "\n",
    "tok = AutoTokenizer.from_pretrained(save_directory)\n",
    "mod = AutoModelForSequenceClassification.from_pretrained(save_directory)\n"
   ]
  },
  {
   "cell_type": "code",
   "execution_count": 17,
   "id": "395c0e41",
   "metadata": {},
   "outputs": [
    {
     "name": "stderr",
     "output_type": "stream",
     "text": [
      "Device set to use cpu\n"
     ]
    },
    {
     "name": "stdout",
     "output_type": "stream",
     "text": [
      "[{'summary_text': 'Liana Barrientos, 39, is charged with two counts of \"offering a false instrument for filing in the first degree\" In total, she has been married 10 times, with nine of her marriages occurring between 1999 and 2002. She is believed to still be married to four men.'}]\n"
     ]
    }
   ],
   "source": [
    "summarizer = pipeline('summarization', model = 'facebook/bart-large-cnn')\n",
    "\n",
    "ARTICLE = \"\"\" New York (CNN)When Liana Barrientos was 23 years old, she got married in Westchester County, New York.\n",
    "A year later, she got married again in Westchester County, but to a different man and without divorcing her first husband.\n",
    "Only 18 days after that marriage, she got hitched yet again. Then, Barrientos declared \"I do\" five more times, sometimes only within two weeks of each other.\n",
    "In 2010, she married once more, this time in the Bronx. In an application for a marriage license, she stated it was her \"first and only\" marriage.\n",
    "Barrientos, now 39, is facing two criminal counts of \"offering a false instrument for filing in the first degree,\" referring to her false statements on the\n",
    "2010 marriage license application, according to court documents.\n",
    "Prosecutors said the marriages were part of an immigration scam.\n",
    "On Friday, she pleaded not guilty at State Supreme Court in the Bronx, according to her attorney, Christopher Wright, who declined to comment further.\n",
    "After leaving court, Barrientos was arrested and charged with theft of service and criminal trespass for allegedly sneaking into the New York subway through an emergency exit, said Detective\n",
    "Annette Markowski, a police spokeswoman. In total, Barrientos has been married 10 times, with nine of her marriages occurring between 1999 and 2002.\n",
    "All occurred either in Westchester County, Long Island, New Jersey or the Bronx. She is believed to still be married to four men, and at one time, she was married to eight men at once, prosecutors say.\n",
    "Prosecutors said the immigration scam involved some of her husbands, who filed for permanent residence status shortly after the marriages.\n",
    "Any divorces happened only after such filings were approved. It was unclear whether any of the men will be prosecuted.\n",
    "The case was referred to the Bronx District Attorney\\'s Office by Immigration and Customs Enforcement and the Department of Homeland Security\\'s\n",
    "Investigation Division. Seven of the men are from so-called \"red-flagged\" countries, including Egypt, Turkey, Georgia, Pakistan and Mali.\n",
    "Her eighth husband, Rashid Rajput, was deported in 2006 to his native Pakistan after an investigation by the Joint Terrorism Task Force.\n",
    "If convicted, Barrientos faces up to four years in prison.  Her next court appearance is scheduled for May 18.\n",
    "\"\"\"\n",
    "\n",
    "print(summarizer(ARTICLE, max_length = 100, min_length = 30, do_sample = False))"
   ]
  },
  {
   "cell_type": "code",
   "execution_count": 18,
   "id": "3ce3ed62",
   "metadata": {},
   "outputs": [],
   "source": [
    "from transformers import BertTokenizer, BertModel\n",
    "\n",
    "sentences = ['i am human', 'i am learning NLP']\n",
    "tokenizer1 = BertTokenizer.from_pretrained('bert-base-uncased')\n",
    "model1 = BertModel.from_pretrained('bert-base-uncased')\n"
   ]
  },
  {
   "cell_type": "code",
   "execution_count": 26,
   "id": "3746575f",
   "metadata": {},
   "outputs": [
    {
     "name": "stdout",
     "output_type": "stream",
     "text": [
      "{'input_ids': tensor([[  101,  1045,  2572,  2529,   102,     0,     0],\n",
      "        [  101,  1045,  2572,  4083, 17953,  2361,   102]]), 'attention_mask': tensor([[1, 1, 1, 1, 1, 0, 0],\n",
      "        [1, 1, 1, 1, 1, 1, 1]])}\n",
      "2\n",
      "torch.Size([2, 7, 768])\n",
      "torch.Size([2, 768])\n"
     ]
    }
   ],
   "source": [
    "sent_tokenized = tokenizer(sentences, padding = True, truncation = True, max_length = 512, return_tensors = 'pt')\n",
    "print(sent_tokenized)\n",
    "outputs = model1(**sent_tokenized)\n",
    "print(len(outputs))\n",
    "print(outputs[0].shape)\n",
    "print(outputs[1].shape)"
   ]
  },
  {
   "cell_type": "code",
   "execution_count": null,
   "id": "3b050255",
   "metadata": {},
   "outputs": [],
   "source": []
  }
 ],
 "metadata": {
  "kernelspec": {
   "display_name": "soc",
   "language": "python",
   "name": "python3"
  },
  "language_info": {
   "codemirror_mode": {
    "name": "ipython",
    "version": 3
   },
   "file_extension": ".py",
   "mimetype": "text/x-python",
   "name": "python",
   "nbconvert_exporter": "python",
   "pygments_lexer": "ipython3",
   "version": "3.11.13"
  }
 },
 "nbformat": 4,
 "nbformat_minor": 5
}
