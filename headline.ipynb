{
 "cells": [
  {
   "cell_type": "code",
   "execution_count": 2,
   "id": "ec3ccb93",
   "metadata": {},
   "outputs": [],
   "source": [
    "import pandas as pd\n",
    "import numpy as np\n",
    "from gensim.models import Word2Vec\n",
    "from sklearn.metrics.pairwise import cosine_similarity\n",
    "from gensim.utils import simple_preprocess\n",
    "from nltk.corpus import stopwords\n",
    "import nltk"
   ]
  },
  {
   "cell_type": "code",
   "execution_count": 3,
   "id": "ff2c2cbe",
   "metadata": {},
   "outputs": [
    {
     "name": "stderr",
     "output_type": "stream",
     "text": [
      "[nltk_data] Downloading package stopwords to\n",
      "[nltk_data]     /home/koushik/nltk_data...\n",
      "[nltk_data]   Package stopwords is already up-to-date!\n"
     ]
    }
   ],
   "source": [
    "nltk.download('stopwords')\n",
    "stop_words = set(stopwords.words('english'))"
   ]
  },
  {
   "cell_type": "code",
   "execution_count": null,
   "id": "55c28ca0",
   "metadata": {},
   "outputs": [],
   "source": [
    "#Load and preprocess headlines\n",
    "df = pd.read_json(\"News_Category_Dataset_v3.json\", lines=True)\n",
    "headlines = df[\"headline\"].astype(str).tolist()\n",
    "\n",
    "def preprocess(text):\n",
    "    return [word for word in simple_preprocess(text) if word not in stop_words]\n",
    "\n",
    "tokenized_headlines = [preprocess(headline) for headline in headlines]"
   ]
  },
  {
   "cell_type": "code",
   "execution_count": 8,
   "id": "1f42cd11",
   "metadata": {},
   "outputs": [
    {
     "data": {
      "text/plain": [
       "'Over 4 Million Americans Roll Up Sleeves For Omicron-Targeted COVID Boosters'"
      ]
     },
     "execution_count": 8,
     "metadata": {},
     "output_type": "execute_result"
    }
   ],
   "source": [
    "headlines[0]"
   ]
  },
  {
   "cell_type": "code",
   "execution_count": 7,
   "id": "6be2bb68",
   "metadata": {},
   "outputs": [
    {
     "data": {
      "text/plain": [
       "['million',\n",
       " 'americans',\n",
       " 'roll',\n",
       " 'sleeves',\n",
       " 'omicron',\n",
       " 'targeted',\n",
       " 'covid',\n",
       " 'boosters']"
      ]
     },
     "execution_count": 7,
     "metadata": {},
     "output_type": "execute_result"
    }
   ],
   "source": [
    "tokenized_headlines[0]"
   ]
  },
  {
   "cell_type": "code",
   "execution_count": 9,
   "id": "e06f0147",
   "metadata": {},
   "outputs": [],
   "source": [
    "# Train Word2Vec embeddings\n",
    "w2v_model = Word2Vec(sentences=tokenized_headlines, vector_size=100, window=5, min_count=2, workers=4)"
   ]
  },
  {
   "cell_type": "code",
   "execution_count": 10,
   "id": "4c71d403",
   "metadata": {},
   "outputs": [],
   "source": [
    "# Sentence Embedding (average of word vectors)\n",
    "def get_sentence_vector(tokens):\n",
    "    vectors = [w2v_model.wv[word] for word in tokens if word in w2v_model.wv]\n",
    "    return np.mean(vectors, axis=0) if vectors else np.zeros(w2v_model.vector_size)\n",
    "\n",
    "headline_vectors = np.array([get_sentence_vector(tokens) for tokens in tokenized_headlines])"
   ]
  },
  {
   "cell_type": "code",
   "execution_count": null,
   "id": "e46bd1dd",
   "metadata": {},
   "outputs": [],
   "source": [
    "# Similarity function\n",
    "def find_top5_similar_headlines(query):\n",
    "    query_tokens = preprocess(query)\n",
    "    query_vector = get_sentence_vector(query_tokens).reshape(1, -1)\n",
    "    sim = cosine_similarity(query_vector, headline_vectors).flatten()\n",
    "    top5 = sim.argsort()[-5:][::-1]\n",
    "\n",
    "    print(\"\\nTop 5 Similar Headlines:\\n\")\n",
    "    for i, idx in enumerate(top5, 1):\n",
    "        print(f\"{i}. {headlines[idx]}\")\n"
   ]
  },
  {
   "cell_type": "code",
   "execution_count": 13,
   "id": "6d29fb0f",
   "metadata": {},
   "outputs": [
    {
     "name": "stdout",
     "output_type": "stream",
     "text": [
      "\n",
      "Top 5 Similar Headlines:\n",
      "\n",
      "1. New Orleans Launches Its Loyola Streetcar, With Another Leg Awaited\n",
      "2. 'Utter Devastation' After Major Quake, Aftershocks Hit New Zealand\n",
      "3. Pharrell's 'G I R L' Album Reaches New Heights In The U.K.\n",
      "4. Eagles Land, Then Soar in New Documentary\n",
      "5. Elle Starts Filling The Holes In Its Masthead, Announces New Hires\n"
     ]
    }
   ],
   "source": [
    "query = \"NASA announces new mission to Mars\"\n",
    "find_top5_similar_headlines(query)\n"
   ]
  },
  {
   "cell_type": "code",
   "execution_count": 15,
   "id": "fd50176b",
   "metadata": {},
   "outputs": [
    {
     "name": "stdout",
     "output_type": "stream",
     "text": [
      "Over 4 Million Americans Roll Up Sleeves For Omicron-Targeted COVID Boosters\n",
      "\n",
      "Top 5 Similar Headlines:\n",
      "\n",
      "1. Over 4 Million Americans Roll Up Sleeves For Omicron-Targeted COVID Boosters\n",
      "2. CDC Estimates More Than 140 Million Americans Have Had COVID So Far\n",
      "3. Shrinking Majority Of Americans Supports Marijuana Legalization\n",
      "4. Wealth of Forbes 400 Billionaires Equals Wealth of All 41 Million African-Americans\n",
      "5. Medicaid Matters: The GOP Attack On 74 Million Americans\n"
     ]
    }
   ],
   "source": [
    "query = headlines[0]\n",
    "print(query)\n",
    "find_top5_similar_headlines(query)"
   ]
  },
  {
   "cell_type": "code",
   "execution_count": null,
   "id": "e0e16bb3",
   "metadata": {},
   "outputs": [],
   "source": []
  }
 ],
 "metadata": {
  "kernelspec": {
   "display_name": "soc",
   "language": "python",
   "name": "python3"
  },
  "language_info": {
   "codemirror_mode": {
    "name": "ipython",
    "version": 3
   },
   "file_extension": ".py",
   "mimetype": "text/x-python",
   "name": "python",
   "nbconvert_exporter": "python",
   "pygments_lexer": "ipython3",
   "version": "3.11.11"
  }
 },
 "nbformat": 4,
 "nbformat_minor": 5
}
