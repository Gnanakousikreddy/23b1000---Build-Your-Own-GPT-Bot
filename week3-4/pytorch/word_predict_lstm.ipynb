{
  "nbformat": 4,
  "nbformat_minor": 0,
  "metadata": {
    "colab": {
      "provenance": []
    },
    "kernelspec": {
      "name": "python3",
      "display_name": "Python 3"
    },
    "language_info": {
      "name": "python"
    }
  },
  "cells": [
    {
      "cell_type": "code",
      "execution_count": 1,
      "metadata": {
        "colab": {
          "base_uri": "https://localhost:8080/"
        },
        "id": "oJNr59DtQpdP",
        "outputId": "12a1abf5-b5f3-4b25-8dea-d9b836a0f770"
      },
      "outputs": [
        {
          "output_type": "stream",
          "name": "stdout",
          "text": [
            "Requirement already satisfied: nltk in /usr/local/lib/python3.11/dist-packages (3.9.1)\n",
            "Requirement already satisfied: click in /usr/local/lib/python3.11/dist-packages (from nltk) (8.2.1)\n",
            "Requirement already satisfied: joblib in /usr/local/lib/python3.11/dist-packages (from nltk) (1.5.1)\n",
            "Requirement already satisfied: regex>=2021.8.3 in /usr/local/lib/python3.11/dist-packages (from nltk) (2024.11.6)\n",
            "Requirement already satisfied: tqdm in /usr/local/lib/python3.11/dist-packages (from nltk) (4.67.1)\n"
          ]
        }
      ],
      "source": [
        "!pip install nltk"
      ]
    },
    {
      "cell_type": "code",
      "source": [
        "from nltk.tokenize import word_tokenize\n",
        "import nltk\n",
        "import torch\n",
        "import torch.nn as nn\n",
        "import torch.optim as optim\n",
        "from torch.utils.data import Dataset, DataLoader\n",
        "from collections import Counter\n",
        "import numpy as np\n",
        "\n",
        "nltk.download('punkt')\n",
        "nltk.download('punkt_tab')"
      ],
      "metadata": {
        "colab": {
          "base_uri": "https://localhost:8080/"
        },
        "id": "XZ5F61baQ-KO",
        "outputId": "e65d57ce-96bb-41fc-dc10-a7642c9e6d46"
      },
      "execution_count": 2,
      "outputs": [
        {
          "output_type": "stream",
          "name": "stderr",
          "text": [
            "[nltk_data] Downloading package punkt to /root/nltk_data...\n",
            "[nltk_data]   Unzipping tokenizers/punkt.zip.\n",
            "[nltk_data] Downloading package punkt_tab to /root/nltk_data...\n",
            "[nltk_data]   Unzipping tokenizers/punkt_tab.zip.\n"
          ]
        },
        {
          "output_type": "execute_result",
          "data": {
            "text/plain": [
              "True"
            ]
          },
          "metadata": {},
          "execution_count": 2
        }
      ]
    },
    {
      "cell_type": "code",
      "source": [
        "document = \"\"\"About the Program\n",
        "What is the course fee for  Data Science Mentorship Program (DSMP 2023)\n",
        "The course follows a monthly subscription model where you have to make monthly payments of Rs 799/month.\n",
        "What is the total duration of the course?\n",
        "The total duration of the course is 7 months. So the total course fee becomes 799*7 = Rs 5600(approx.)\n",
        "What is the syllabus of the mentorship program?\n",
        "We will be covering the following modules:\n",
        "Python Fundamentals\n",
        "Python libraries for Data Science\n",
        "Data Analysis\n",
        "SQL for Data Science\n",
        "Maths for Machine Learning\n",
        "ML Algorithms\n",
        "Practical ML\n",
        "MLOPs\n",
        "Case studies\n",
        "You can check the detailed syllabus here - https://learnwith.campusx.in/courses/CampusX-Data-Science-Mentorship-Program-637339afe4b0615a1bbed390\n",
        "Will Deep Learning and NLP be a part of this program?\n",
        "No, NLP and Deep Learning both are not a part of this program’s curriculum.\n",
        "What if I miss a live session? Will I get a recording of the session?\n",
        "Yes all our sessions are recorded, so even if you miss a session you can go back and watch the recording.\n",
        "Where can I find the class schedule?\n",
        "Checkout this google sheet to see month by month time table of the course - https://docs.google.com/spreadsheets/d/16OoTax_A6ORAeCg4emgexhqqPv3noQPYKU7RJ6ArOzk/edit?usp=sharing.\n",
        "What is the time duration of all the live sessions?\n",
        "Roughly, all the sessions last 2 hours.\n",
        "What is the language spoken by the instructor during the sessions?\n",
        "Hinglish\n",
        "How will I be informed about the upcoming class?\n",
        "You will get a mail from our side before every paid session once you become a paid user.\n",
        "Can I do this course if I am from a non-tech background?\n",
        "Yes, absolutely.\n",
        "I am late, can I join the program in the middle?\n",
        "Absolutely, you can join the program anytime.\n",
        "If I join/pay in the middle, will I be able to see all the past lectures?\n",
        "Yes, once you make the payment you will be able to see all the past content in your dashboard.\n",
        "Where do I have to submit the task?\n",
        "You don’t have to submit the task. We will provide you with the solutions, you have to self evaluate the task yourself.\n",
        "Will we do case studies in the program?\n",
        "Yes.\n",
        "Where can we contact you?\n",
        "You can mail us at nitish.campusx@gmail.com\n",
        "Payment/Registration related questions\n",
        "Where do we have to make our payments? Your YouTube channel or website?\n",
        "You have to make all your monthly payments on our website. Here is the link for our website - https://learnwith.campusx.in/\n",
        "Can we pay the entire amount of Rs 5600 all at once?\n",
        "Unfortunately no, the program follows a monthly subscription model.\n",
        "What is the validity of monthly subscription? Suppose if I pay on 15th Jan, then do I have to pay again on 1st Feb or 15th Feb\n",
        "15th Feb. The validity period is 30 days from the day you make the payment. So essentially you can join anytime you don’t have to wait for a month to end.\n",
        "What if I don’t like the course after making the payment. What is the refund policy?\n",
        "You get a 7 days refund period from the day you have made the payment.\n",
        "I am living outside India and I am not able to make the payment on the website, what should I do?\n",
        "You have to contact us by sending a mail at nitish.campusx@gmail.com\n",
        "Post registration queries\n",
        "Till when can I view the paid videos on the website?\n",
        "This one is tricky, so read carefully. You can watch the videos till your subscription is valid. Suppose you have purchased subscription on 21st Jan, you will be able to watch all the past paid sessions in the period of 21st Jan to 20th Feb. But after 21st Feb you will have to purchase the subscription again.\n",
        "But once the course is over and you have paid us Rs 5600(or 7 installments of Rs 799) you will be able to watch the paid sessions till Aug 2024.\n",
        "Why lifetime validity is not provided?\n",
        "Because of the low course fee.\n",
        "Where can I reach out in case of a doubt after the session?\n",
        "You will have to fill a google form provided in your dashboard and our team will contact you for a 1 on 1 doubt clearance session\n",
        "If I join the program late, can I still ask past week doubts?\n",
        "Yes, just select past week doubt in the doubt clearance google form.\n",
        "I am living outside India and I am not able to make the payment on the website, what should I do?\n",
        "You have to contact us by sending a mail at nitish.campusx@gmai.com\n",
        "Certificate and Placement Assistance related queries\n",
        "What is the criteria to get the certificate?\n",
        "There are 2 criterias:\n",
        "You have to pay the entire fee of Rs 5600\n",
        "You have to attempt all the course assessments.\n",
        "I am joining late. How can I pay payment of the earlier months?\n",
        "You will get a link to pay fee of earlier months in your dashboard once you pay for the current month.\n",
        "I have read that Placement assistance is a part of this program. What comes under Placement assistance?\n",
        "This is to clarify that Placement assistance does not mean Placement guarantee. So we dont guarantee you any jobs or for that matter even interview calls. So if you are planning to join this course just for placements, I am afraid you will be disappointed. Here is what comes under placement assistance\n",
        "Portfolio Building sessions\n",
        "Soft skill sessions\n",
        "Sessions with industry mentors\n",
        "Discussion on Job hunting strategies\n",
        "\"\"\"\n"
      ],
      "metadata": {
        "id": "8aQWud89RBin"
      },
      "execution_count": 3,
      "outputs": []
    },
    {
      "cell_type": "code",
      "source": [
        "vocab = {\"<unk>\" : 0}\n",
        "tokens = word_tokenize(document.lower())\n",
        "# print(len(tokens))\n",
        "count = Counter(tokens)\n",
        "# print(len(count))\n",
        "for word in list(count.keys()) :\n",
        "  vocab[word] = len(vocab)\n",
        "print(len(vocab))"
      ],
      "metadata": {
        "colab": {
          "base_uri": "https://localhost:8080/"
        },
        "id": "mDOcpSPcR0l7",
        "outputId": "e4f68b88-ad3c-4577-e97c-b2d45ea4b994"
      },
      "execution_count": 13,
      "outputs": [
        {
          "output_type": "stream",
          "name": "stdout",
          "text": [
            "289\n"
          ]
        }
      ]
    },
    {
      "cell_type": "code",
      "source": [
        "def text_to_indices(text) :\n",
        "  tokens = word_tokenize(text.lower())\n",
        "  indices = []\n",
        "  for word in tokens :\n",
        "    if word in vocab :\n",
        "      indices.append(vocab[word])\n",
        "    else :\n",
        "      indices.append(vocab[\"<unk>\"])\n",
        "  return indices"
      ],
      "metadata": {
        "id": "DAUUnQIESV_m"
      },
      "execution_count": 14,
      "outputs": []
    },
    {
      "cell_type": "code",
      "source": [
        "sentences = document.split('\\n')\n",
        "print(len(sentences))"
      ],
      "metadata": {
        "colab": {
          "base_uri": "https://localhost:8080/"
        },
        "id": "Wj1L9FbUTGLK",
        "outputId": "7c16e9cd-cb31-4597-d9fc-7882fab5f18a"
      },
      "execution_count": 18,
      "outputs": [
        {
          "output_type": "stream",
          "name": "stdout",
          "text": [
            "78\n"
          ]
        }
      ]
    },
    {
      "cell_type": "code",
      "source": [
        "sent_indices = []\n",
        "max_len = 0\n",
        "for sent in sentences :\n",
        "  indices = text_to_indices(sent)\n",
        "  max_len = max(max_len, len(indices))\n",
        "  sent_indices.append(indices)\n",
        "print(max_len)"
      ],
      "metadata": {
        "colab": {
          "base_uri": "https://localhost:8080/"
        },
        "id": "px3pHS4ZTL9k",
        "outputId": "72c5be87-4712-4d32-8dd8-1ad32f05ebc0"
      },
      "execution_count": 28,
      "outputs": [
        {
          "output_type": "stream",
          "name": "stdout",
          "text": [
            "62\n"
          ]
        }
      ]
    },
    {
      "cell_type": "code",
      "source": [
        "data = []\n",
        "for sent in sent_indices :\n",
        "  for i in range(1, len(sent)) :\n",
        "    data.append(sent[:i+1])\n",
        "print(len(data))"
      ],
      "metadata": {
        "colab": {
          "base_uri": "https://localhost:8080/"
        },
        "id": "jnowy_hlTkTx",
        "outputId": "e462f63e-7b8b-4a65-bee4-15ceb1984f06"
      },
      "execution_count": 32,
      "outputs": [
        {
          "output_type": "stream",
          "name": "stdout",
          "text": [
            "942\n"
          ]
        }
      ]
    },
    {
      "cell_type": "code",
      "source": [
        "pad_data = []\n",
        "for sent in data :\n",
        "  pad_sent = [0] * (max_len - len(sent)) + sent\n",
        "  pad_data.append(pad_sent)\n",
        "\n",
        "pad_data = torch.tensor(pad_data, dtype = torch.long)\n",
        "print(pad_data.shape)"
      ],
      "metadata": {
        "colab": {
          "base_uri": "https://localhost:8080/"
        },
        "id": "QAvpaUxoUJhJ",
        "outputId": "54139d64-1eea-4e29-9395-826a4a1da2d7"
      },
      "execution_count": 36,
      "outputs": [
        {
          "output_type": "stream",
          "name": "stdout",
          "text": [
            "torch.Size([942, 62])\n"
          ]
        }
      ]
    },
    {
      "cell_type": "code",
      "source": [
        "x = pad_data[:, :-1]\n",
        "y = pad_data[:, -1]\n",
        "print(x.shape, y.shape)"
      ],
      "metadata": {
        "colab": {
          "base_uri": "https://localhost:8080/"
        },
        "id": "c8S2rzfxVU-u",
        "outputId": "041c2715-1758-409a-ec9d-f66f3ed79170"
      },
      "execution_count": 37,
      "outputs": [
        {
          "output_type": "stream",
          "name": "stdout",
          "text": [
            "torch.Size([942, 61]) torch.Size([942])\n"
          ]
        }
      ]
    },
    {
      "cell_type": "code",
      "source": [
        "class docData(Dataset) :\n",
        "  def __init__(self, x, y) :\n",
        "    self.x = x\n",
        "    self.y = y\n",
        "\n",
        "  def __len__(self) :\n",
        "    return self.x.shape[0]\n",
        "\n",
        "  def __getitem__(self, index) :\n",
        "    return self.x[index], self.y[index]"
      ],
      "metadata": {
        "id": "fSdsNyuLVnEA"
      },
      "execution_count": 38,
      "outputs": []
    },
    {
      "cell_type": "code",
      "source": [
        "dataset = docData(x, y)\n",
        "train_loader = DataLoader(dataset, batch_size = 128, shuffle = True)"
      ],
      "metadata": {
        "id": "Q3nHCUguWD4a"
      },
      "execution_count": 39,
      "outputs": []
    },
    {
      "cell_type": "code",
      "source": [
        "class LSTM_model(nn.Module) :\n",
        "  def __init__(self, vocab_size) :\n",
        "    super().__init__()\n",
        "    self.embedding = nn.Embedding(vocab_size, 100)\n",
        "    self.lstm = nn.LSTM(100, 128, batch_first = True)\n",
        "    self.fc = nn.Linear(128, vocab_size)\n",
        "\n",
        "  def forward(self, x) :\n",
        "    out = self.embedding(x)\n",
        "    _, (hidden_state, cell_state) = self.lstm(out)\n",
        "    out = self.fc(hidden_state.squeeze(0))\n",
        "    return out"
      ],
      "metadata": {
        "id": "y3Zr8bl6WNR6"
      },
      "execution_count": 42,
      "outputs": []
    },
    {
      "cell_type": "code",
      "source": [
        "a = nn.Embedding(289, 100)\n",
        "b = nn.LSTM(100, 128, batch_first = True)\n",
        "c = nn.Linear(128, 289)\n",
        "\n",
        "x = dataset[0][0].unsqueeze(0)\n",
        "print(x.shape)\n",
        "y = a(x)\n",
        "print(y.shape)\n",
        "z, (hidden_state, cell_state) = b(y)\n",
        "print(z.shape, hidden_state.shape, cell_state.shape)\n",
        "out = c(hidden_state.squeeze(0))\n",
        "print(out.shape)"
      ],
      "metadata": {
        "colab": {
          "base_uri": "https://localhost:8080/"
        },
        "id": "7srUbkSvb9XU",
        "outputId": "d2c6d0db-ea42-4b20-df61-1e4fda014078"
      },
      "execution_count": 49,
      "outputs": [
        {
          "output_type": "stream",
          "name": "stdout",
          "text": [
            "torch.Size([1, 61])\n",
            "torch.Size([1, 61, 100])\n",
            "torch.Size([1, 61, 128]) torch.Size([1, 1, 128]) torch.Size([1, 1, 128])\n",
            "torch.Size([1, 289])\n"
          ]
        }
      ]
    },
    {
      "cell_type": "code",
      "source": [
        "model = LSTM_model(len(vocab))\n",
        "loss_fn = nn.CrossEntropyLoss()\n",
        "learning_rate = 0.001\n",
        "epochs = 50\n",
        "optimizer = optim.Adam(model.parameters(), lr = learning_rate)"
      ],
      "metadata": {
        "id": "8cWo8_cGWPxc"
      },
      "execution_count": 50,
      "outputs": []
    },
    {
      "cell_type": "code",
      "source": [
        "for epoch in range(epochs) :\n",
        "  total_loss = 0.0\n",
        "  for batch_x, batch_y in train_loader :\n",
        "    out = model(batch_x)\n",
        "    loss = loss_fn(out, batch_y)\n",
        "    optimizer.zero_grad()\n",
        "    loss.backward()\n",
        "    optimizer.step()\n",
        "    total_loss += loss.item()\n",
        "  print(f\"Epoch : {epoch} | Loss : {total_loss}\")"
      ],
      "metadata": {
        "colab": {
          "base_uri": "https://localhost:8080/"
        },
        "id": "MS5_DXOyc0jY",
        "outputId": "2381216d-cc78-44d2-cca0-0a6ee3780442"
      },
      "execution_count": 51,
      "outputs": [
        {
          "output_type": "stream",
          "name": "stdout",
          "text": [
            "Epoch : 0 | Loss : 45.12713575363159\n",
            "Epoch : 1 | Loss : 44.002492904663086\n",
            "Epoch : 2 | Loss : 41.90834617614746\n",
            "Epoch : 3 | Loss : 39.60223865509033\n",
            "Epoch : 4 | Loss : 37.772111892700195\n",
            "Epoch : 5 | Loss : 36.250927448272705\n",
            "Epoch : 6 | Loss : 34.950353145599365\n",
            "Epoch : 7 | Loss : 33.52888107299805\n",
            "Epoch : 8 | Loss : 32.18020248413086\n",
            "Epoch : 9 | Loss : 30.92086100578308\n",
            "Epoch : 10 | Loss : 29.647595167160034\n",
            "Epoch : 11 | Loss : 28.472394704818726\n",
            "Epoch : 12 | Loss : 27.11970615386963\n",
            "Epoch : 13 | Loss : 25.76723575592041\n",
            "Epoch : 14 | Loss : 24.695905447006226\n",
            "Epoch : 15 | Loss : 23.492282152175903\n",
            "Epoch : 16 | Loss : 22.287156581878662\n",
            "Epoch : 17 | Loss : 21.531165599822998\n",
            "Epoch : 18 | Loss : 20.111427307128906\n",
            "Epoch : 19 | Loss : 19.37274932861328\n",
            "Epoch : 20 | Loss : 18.15273952484131\n",
            "Epoch : 21 | Loss : 17.398516416549683\n",
            "Epoch : 22 | Loss : 16.437533855438232\n",
            "Epoch : 23 | Loss : 15.635674118995667\n",
            "Epoch : 24 | Loss : 14.73039197921753\n",
            "Epoch : 25 | Loss : 13.87644076347351\n",
            "Epoch : 26 | Loss : 13.304367780685425\n",
            "Epoch : 27 | Loss : 12.593422174453735\n",
            "Epoch : 28 | Loss : 11.857941150665283\n",
            "Epoch : 29 | Loss : 11.19179356098175\n",
            "Epoch : 30 | Loss : 10.629995346069336\n",
            "Epoch : 31 | Loss : 10.070049285888672\n",
            "Epoch : 32 | Loss : 9.499921679496765\n",
            "Epoch : 33 | Loss : 9.10018014907837\n",
            "Epoch : 34 | Loss : 8.499314725399017\n",
            "Epoch : 35 | Loss : 8.063227832317352\n",
            "Epoch : 36 | Loss : 7.743179023265839\n",
            "Epoch : 37 | Loss : 7.2782891392707825\n",
            "Epoch : 38 | Loss : 6.928782165050507\n",
            "Epoch : 39 | Loss : 6.59631222486496\n",
            "Epoch : 40 | Loss : 6.220398008823395\n",
            "Epoch : 41 | Loss : 5.964727997779846\n",
            "Epoch : 42 | Loss : 5.674483418464661\n",
            "Epoch : 43 | Loss : 5.397530794143677\n",
            "Epoch : 44 | Loss : 5.074457824230194\n",
            "Epoch : 45 | Loss : 4.96257871389389\n",
            "Epoch : 46 | Loss : 4.743708789348602\n",
            "Epoch : 47 | Loss : 4.491937577724457\n",
            "Epoch : 48 | Loss : 4.315616071224213\n",
            "Epoch : 49 | Loss : 4.114203214645386\n"
          ]
        }
      ]
    },
    {
      "cell_type": "code",
      "source": [
        "def predict(model, text, vocab) :\n",
        "  indices = text_to_indices(text)\n",
        "  pad_sent = [0] * (max_len - len(indices)) + indices\n",
        "  pad_sent = torch.tensor(pad_sent, dtype = torch.long).unsqueeze(0)\n",
        "  out = model(pad_sent)\n",
        "  _, pred = torch.max(out, dim = 1)\n",
        "  word = list(vocab.keys())[pred.item()]\n",
        "  return text + \" \" + word"
      ],
      "metadata": {
        "id": "hhzXx77rdVL4"
      },
      "execution_count": 55,
      "outputs": []
    },
    {
      "cell_type": "code",
      "source": [
        "sent = \"What is the course\"\n",
        "for i in range(5) :\n",
        "  sent = predict (model, sent, vocab)\n",
        "  print(sent)"
      ],
      "metadata": {
        "colab": {
          "base_uri": "https://localhost:8080/"
        },
        "id": "S_DPDMCses3X",
        "outputId": "e4bf3f8d-294b-4d76-920f-5b5298371c6e"
      },
      "execution_count": 56,
      "outputs": [
        {
          "output_type": "stream",
          "name": "stdout",
          "text": [
            "What is the course fee\n",
            "What is the course fee for\n",
            "What is the course fee for data\n",
            "What is the course fee for data science\n",
            "What is the course fee for data science mentorship\n"
          ]
        }
      ]
    },
    {
      "cell_type": "code",
      "source": [],
      "metadata": {
        "id": "PY-JLxMFe65s"
      },
      "execution_count": null,
      "outputs": []
    }
  ]
}