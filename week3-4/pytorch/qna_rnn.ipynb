{
  "nbformat": 4,
  "nbformat_minor": 0,
  "metadata": {
    "colab": {
      "provenance": []
    },
    "kernelspec": {
      "name": "python3",
      "display_name": "Python 3"
    },
    "language_info": {
      "name": "python"
    }
  },
  "cells": [
    {
      "cell_type": "code",
      "execution_count": 34,
      "metadata": {
        "id": "-Qj5b162uC8V"
      },
      "outputs": [],
      "source": [
        "import pandas as pd\n",
        "import torch"
      ]
    },
    {
      "cell_type": "code",
      "source": [
        "df = pd.read_csv('/content/100_Unique_QA_Dataset.csv')\n",
        "df"
      ],
      "metadata": {
        "colab": {
          "base_uri": "https://localhost:8080/",
          "height": 424
        },
        "id": "WRZHSA5AuWhC",
        "outputId": "1661c0fb-faf2-4785-e203-442bb9fe2f26"
      },
      "execution_count": 35,
      "outputs": [
        {
          "output_type": "execute_result",
          "data": {
            "text/plain": [
              "                                             question        answer\n",
              "0                      What is the capital of France?         Paris\n",
              "1                     What is the capital of Germany?        Berlin\n",
              "2                  Who wrote 'To Kill a Mockingbird'?    Harper-Lee\n",
              "3     What is the largest planet in our solar system?       Jupiter\n",
              "4      What is the boiling point of water in Celsius?           100\n",
              "..                                                ...           ...\n",
              "85                  Who directed the movie 'Titanic'?  JamesCameron\n",
              "86  Which superhero is also known as the Dark Knight?        Batman\n",
              "87                     What is the capital of Brazil?      Brasilia\n",
              "88        Which fruit is known as the king of fruits?         Mango\n",
              "89       Which country is known for the Eiffel Tower?        France\n",
              "\n",
              "[90 rows x 2 columns]"
            ],
            "text/html": [
              "\n",
              "  <div id=\"df-5d6ea48f-190b-498a-88d4-0a0ec02d2689\" class=\"colab-df-container\">\n",
              "    <div>\n",
              "<style scoped>\n",
              "    .dataframe tbody tr th:only-of-type {\n",
              "        vertical-align: middle;\n",
              "    }\n",
              "\n",
              "    .dataframe tbody tr th {\n",
              "        vertical-align: top;\n",
              "    }\n",
              "\n",
              "    .dataframe thead th {\n",
              "        text-align: right;\n",
              "    }\n",
              "</style>\n",
              "<table border=\"1\" class=\"dataframe\">\n",
              "  <thead>\n",
              "    <tr style=\"text-align: right;\">\n",
              "      <th></th>\n",
              "      <th>question</th>\n",
              "      <th>answer</th>\n",
              "    </tr>\n",
              "  </thead>\n",
              "  <tbody>\n",
              "    <tr>\n",
              "      <th>0</th>\n",
              "      <td>What is the capital of France?</td>\n",
              "      <td>Paris</td>\n",
              "    </tr>\n",
              "    <tr>\n",
              "      <th>1</th>\n",
              "      <td>What is the capital of Germany?</td>\n",
              "      <td>Berlin</td>\n",
              "    </tr>\n",
              "    <tr>\n",
              "      <th>2</th>\n",
              "      <td>Who wrote 'To Kill a Mockingbird'?</td>\n",
              "      <td>Harper-Lee</td>\n",
              "    </tr>\n",
              "    <tr>\n",
              "      <th>3</th>\n",
              "      <td>What is the largest planet in our solar system?</td>\n",
              "      <td>Jupiter</td>\n",
              "    </tr>\n",
              "    <tr>\n",
              "      <th>4</th>\n",
              "      <td>What is the boiling point of water in Celsius?</td>\n",
              "      <td>100</td>\n",
              "    </tr>\n",
              "    <tr>\n",
              "      <th>...</th>\n",
              "      <td>...</td>\n",
              "      <td>...</td>\n",
              "    </tr>\n",
              "    <tr>\n",
              "      <th>85</th>\n",
              "      <td>Who directed the movie 'Titanic'?</td>\n",
              "      <td>JamesCameron</td>\n",
              "    </tr>\n",
              "    <tr>\n",
              "      <th>86</th>\n",
              "      <td>Which superhero is also known as the Dark Knight?</td>\n",
              "      <td>Batman</td>\n",
              "    </tr>\n",
              "    <tr>\n",
              "      <th>87</th>\n",
              "      <td>What is the capital of Brazil?</td>\n",
              "      <td>Brasilia</td>\n",
              "    </tr>\n",
              "    <tr>\n",
              "      <th>88</th>\n",
              "      <td>Which fruit is known as the king of fruits?</td>\n",
              "      <td>Mango</td>\n",
              "    </tr>\n",
              "    <tr>\n",
              "      <th>89</th>\n",
              "      <td>Which country is known for the Eiffel Tower?</td>\n",
              "      <td>France</td>\n",
              "    </tr>\n",
              "  </tbody>\n",
              "</table>\n",
              "<p>90 rows × 2 columns</p>\n",
              "</div>\n",
              "    <div class=\"colab-df-buttons\">\n",
              "\n",
              "  <div class=\"colab-df-container\">\n",
              "    <button class=\"colab-df-convert\" onclick=\"convertToInteractive('df-5d6ea48f-190b-498a-88d4-0a0ec02d2689')\"\n",
              "            title=\"Convert this dataframe to an interactive table.\"\n",
              "            style=\"display:none;\">\n",
              "\n",
              "  <svg xmlns=\"http://www.w3.org/2000/svg\" height=\"24px\" viewBox=\"0 -960 960 960\">\n",
              "    <path d=\"M120-120v-720h720v720H120Zm60-500h600v-160H180v160Zm220 220h160v-160H400v160Zm0 220h160v-160H400v160ZM180-400h160v-160H180v160Zm440 0h160v-160H620v160ZM180-180h160v-160H180v160Zm440 0h160v-160H620v160Z\"/>\n",
              "  </svg>\n",
              "    </button>\n",
              "\n",
              "  <style>\n",
              "    .colab-df-container {\n",
              "      display:flex;\n",
              "      gap: 12px;\n",
              "    }\n",
              "\n",
              "    .colab-df-convert {\n",
              "      background-color: #E8F0FE;\n",
              "      border: none;\n",
              "      border-radius: 50%;\n",
              "      cursor: pointer;\n",
              "      display: none;\n",
              "      fill: #1967D2;\n",
              "      height: 32px;\n",
              "      padding: 0 0 0 0;\n",
              "      width: 32px;\n",
              "    }\n",
              "\n",
              "    .colab-df-convert:hover {\n",
              "      background-color: #E2EBFA;\n",
              "      box-shadow: 0px 1px 2px rgba(60, 64, 67, 0.3), 0px 1px 3px 1px rgba(60, 64, 67, 0.15);\n",
              "      fill: #174EA6;\n",
              "    }\n",
              "\n",
              "    .colab-df-buttons div {\n",
              "      margin-bottom: 4px;\n",
              "    }\n",
              "\n",
              "    [theme=dark] .colab-df-convert {\n",
              "      background-color: #3B4455;\n",
              "      fill: #D2E3FC;\n",
              "    }\n",
              "\n",
              "    [theme=dark] .colab-df-convert:hover {\n",
              "      background-color: #434B5C;\n",
              "      box-shadow: 0px 1px 3px 1px rgba(0, 0, 0, 0.15);\n",
              "      filter: drop-shadow(0px 1px 2px rgba(0, 0, 0, 0.3));\n",
              "      fill: #FFFFFF;\n",
              "    }\n",
              "  </style>\n",
              "\n",
              "    <script>\n",
              "      const buttonEl =\n",
              "        document.querySelector('#df-5d6ea48f-190b-498a-88d4-0a0ec02d2689 button.colab-df-convert');\n",
              "      buttonEl.style.display =\n",
              "        google.colab.kernel.accessAllowed ? 'block' : 'none';\n",
              "\n",
              "      async function convertToInteractive(key) {\n",
              "        const element = document.querySelector('#df-5d6ea48f-190b-498a-88d4-0a0ec02d2689');\n",
              "        const dataTable =\n",
              "          await google.colab.kernel.invokeFunction('convertToInteractive',\n",
              "                                                    [key], {});\n",
              "        if (!dataTable) return;\n",
              "\n",
              "        const docLinkHtml = 'Like what you see? Visit the ' +\n",
              "          '<a target=\"_blank\" href=https://colab.research.google.com/notebooks/data_table.ipynb>data table notebook</a>'\n",
              "          + ' to learn more about interactive tables.';\n",
              "        element.innerHTML = '';\n",
              "        dataTable['output_type'] = 'display_data';\n",
              "        await google.colab.output.renderOutput(dataTable, element);\n",
              "        const docLink = document.createElement('div');\n",
              "        docLink.innerHTML = docLinkHtml;\n",
              "        element.appendChild(docLink);\n",
              "      }\n",
              "    </script>\n",
              "  </div>\n",
              "\n",
              "\n",
              "    <div id=\"df-ce63f7de-3db4-480d-989b-787334888238\">\n",
              "      <button class=\"colab-df-quickchart\" onclick=\"quickchart('df-ce63f7de-3db4-480d-989b-787334888238')\"\n",
              "                title=\"Suggest charts\"\n",
              "                style=\"display:none;\">\n",
              "\n",
              "<svg xmlns=\"http://www.w3.org/2000/svg\" height=\"24px\"viewBox=\"0 0 24 24\"\n",
              "     width=\"24px\">\n",
              "    <g>\n",
              "        <path d=\"M19 3H5c-1.1 0-2 .9-2 2v14c0 1.1.9 2 2 2h14c1.1 0 2-.9 2-2V5c0-1.1-.9-2-2-2zM9 17H7v-7h2v7zm4 0h-2V7h2v10zm4 0h-2v-4h2v4z\"/>\n",
              "    </g>\n",
              "</svg>\n",
              "      </button>\n",
              "\n",
              "<style>\n",
              "  .colab-df-quickchart {\n",
              "      --bg-color: #E8F0FE;\n",
              "      --fill-color: #1967D2;\n",
              "      --hover-bg-color: #E2EBFA;\n",
              "      --hover-fill-color: #174EA6;\n",
              "      --disabled-fill-color: #AAA;\n",
              "      --disabled-bg-color: #DDD;\n",
              "  }\n",
              "\n",
              "  [theme=dark] .colab-df-quickchart {\n",
              "      --bg-color: #3B4455;\n",
              "      --fill-color: #D2E3FC;\n",
              "      --hover-bg-color: #434B5C;\n",
              "      --hover-fill-color: #FFFFFF;\n",
              "      --disabled-bg-color: #3B4455;\n",
              "      --disabled-fill-color: #666;\n",
              "  }\n",
              "\n",
              "  .colab-df-quickchart {\n",
              "    background-color: var(--bg-color);\n",
              "    border: none;\n",
              "    border-radius: 50%;\n",
              "    cursor: pointer;\n",
              "    display: none;\n",
              "    fill: var(--fill-color);\n",
              "    height: 32px;\n",
              "    padding: 0;\n",
              "    width: 32px;\n",
              "  }\n",
              "\n",
              "  .colab-df-quickchart:hover {\n",
              "    background-color: var(--hover-bg-color);\n",
              "    box-shadow: 0 1px 2px rgba(60, 64, 67, 0.3), 0 1px 3px 1px rgba(60, 64, 67, 0.15);\n",
              "    fill: var(--button-hover-fill-color);\n",
              "  }\n",
              "\n",
              "  .colab-df-quickchart-complete:disabled,\n",
              "  .colab-df-quickchart-complete:disabled:hover {\n",
              "    background-color: var(--disabled-bg-color);\n",
              "    fill: var(--disabled-fill-color);\n",
              "    box-shadow: none;\n",
              "  }\n",
              "\n",
              "  .colab-df-spinner {\n",
              "    border: 2px solid var(--fill-color);\n",
              "    border-color: transparent;\n",
              "    border-bottom-color: var(--fill-color);\n",
              "    animation:\n",
              "      spin 1s steps(1) infinite;\n",
              "  }\n",
              "\n",
              "  @keyframes spin {\n",
              "    0% {\n",
              "      border-color: transparent;\n",
              "      border-bottom-color: var(--fill-color);\n",
              "      border-left-color: var(--fill-color);\n",
              "    }\n",
              "    20% {\n",
              "      border-color: transparent;\n",
              "      border-left-color: var(--fill-color);\n",
              "      border-top-color: var(--fill-color);\n",
              "    }\n",
              "    30% {\n",
              "      border-color: transparent;\n",
              "      border-left-color: var(--fill-color);\n",
              "      border-top-color: var(--fill-color);\n",
              "      border-right-color: var(--fill-color);\n",
              "    }\n",
              "    40% {\n",
              "      border-color: transparent;\n",
              "      border-right-color: var(--fill-color);\n",
              "      border-top-color: var(--fill-color);\n",
              "    }\n",
              "    60% {\n",
              "      border-color: transparent;\n",
              "      border-right-color: var(--fill-color);\n",
              "    }\n",
              "    80% {\n",
              "      border-color: transparent;\n",
              "      border-right-color: var(--fill-color);\n",
              "      border-bottom-color: var(--fill-color);\n",
              "    }\n",
              "    90% {\n",
              "      border-color: transparent;\n",
              "      border-bottom-color: var(--fill-color);\n",
              "    }\n",
              "  }\n",
              "</style>\n",
              "\n",
              "      <script>\n",
              "        async function quickchart(key) {\n",
              "          const quickchartButtonEl =\n",
              "            document.querySelector('#' + key + ' button');\n",
              "          quickchartButtonEl.disabled = true;  // To prevent multiple clicks.\n",
              "          quickchartButtonEl.classList.add('colab-df-spinner');\n",
              "          try {\n",
              "            const charts = await google.colab.kernel.invokeFunction(\n",
              "                'suggestCharts', [key], {});\n",
              "          } catch (error) {\n",
              "            console.error('Error during call to suggestCharts:', error);\n",
              "          }\n",
              "          quickchartButtonEl.classList.remove('colab-df-spinner');\n",
              "          quickchartButtonEl.classList.add('colab-df-quickchart-complete');\n",
              "        }\n",
              "        (() => {\n",
              "          let quickchartButtonEl =\n",
              "            document.querySelector('#df-ce63f7de-3db4-480d-989b-787334888238 button');\n",
              "          quickchartButtonEl.style.display =\n",
              "            google.colab.kernel.accessAllowed ? 'block' : 'none';\n",
              "        })();\n",
              "      </script>\n",
              "    </div>\n",
              "\n",
              "  <div id=\"id_80f8abc9-49bf-4dfc-8a9b-40b286ac7d93\">\n",
              "    <style>\n",
              "      .colab-df-generate {\n",
              "        background-color: #E8F0FE;\n",
              "        border: none;\n",
              "        border-radius: 50%;\n",
              "        cursor: pointer;\n",
              "        display: none;\n",
              "        fill: #1967D2;\n",
              "        height: 32px;\n",
              "        padding: 0 0 0 0;\n",
              "        width: 32px;\n",
              "      }\n",
              "\n",
              "      .colab-df-generate:hover {\n",
              "        background-color: #E2EBFA;\n",
              "        box-shadow: 0px 1px 2px rgba(60, 64, 67, 0.3), 0px 1px 3px 1px rgba(60, 64, 67, 0.15);\n",
              "        fill: #174EA6;\n",
              "      }\n",
              "\n",
              "      [theme=dark] .colab-df-generate {\n",
              "        background-color: #3B4455;\n",
              "        fill: #D2E3FC;\n",
              "      }\n",
              "\n",
              "      [theme=dark] .colab-df-generate:hover {\n",
              "        background-color: #434B5C;\n",
              "        box-shadow: 0px 1px 3px 1px rgba(0, 0, 0, 0.15);\n",
              "        filter: drop-shadow(0px 1px 2px rgba(0, 0, 0, 0.3));\n",
              "        fill: #FFFFFF;\n",
              "      }\n",
              "    </style>\n",
              "    <button class=\"colab-df-generate\" onclick=\"generateWithVariable('df')\"\n",
              "            title=\"Generate code using this dataframe.\"\n",
              "            style=\"display:none;\">\n",
              "\n",
              "  <svg xmlns=\"http://www.w3.org/2000/svg\" height=\"24px\"viewBox=\"0 0 24 24\"\n",
              "       width=\"24px\">\n",
              "    <path d=\"M7,19H8.4L18.45,9,17,7.55,7,17.6ZM5,21V16.75L18.45,3.32a2,2,0,0,1,2.83,0l1.4,1.43a1.91,1.91,0,0,1,.58,1.4,1.91,1.91,0,0,1-.58,1.4L9.25,21ZM18.45,9,17,7.55Zm-12,3A5.31,5.31,0,0,0,4.9,8.1,5.31,5.31,0,0,0,1,6.5,5.31,5.31,0,0,0,4.9,4.9,5.31,5.31,0,0,0,6.5,1,5.31,5.31,0,0,0,8.1,4.9,5.31,5.31,0,0,0,12,6.5,5.46,5.46,0,0,0,6.5,12Z\"/>\n",
              "  </svg>\n",
              "    </button>\n",
              "    <script>\n",
              "      (() => {\n",
              "      const buttonEl =\n",
              "        document.querySelector('#id_80f8abc9-49bf-4dfc-8a9b-40b286ac7d93 button.colab-df-generate');\n",
              "      buttonEl.style.display =\n",
              "        google.colab.kernel.accessAllowed ? 'block' : 'none';\n",
              "\n",
              "      buttonEl.onclick = () => {\n",
              "        google.colab.notebook.generateWithVariable('df');\n",
              "      }\n",
              "      })();\n",
              "    </script>\n",
              "  </div>\n",
              "\n",
              "    </div>\n",
              "  </div>\n"
            ],
            "application/vnd.google.colaboratory.intrinsic+json": {
              "type": "dataframe",
              "variable_name": "df",
              "summary": "{\n  \"name\": \"df\",\n  \"rows\": 90,\n  \"fields\": [\n    {\n      \"column\": \"question\",\n      \"properties\": {\n        \"dtype\": \"string\",\n        \"num_unique_values\": 90,\n        \"samples\": [\n          \"What is the currency of China?\",\n          \"What is the capital of Australia?\",\n          \"Who discovered electricity?\"\n        ],\n        \"semantic_type\": \"\",\n        \"description\": \"\"\n      }\n    },\n    {\n      \"column\": \"answer\",\n      \"properties\": {\n        \"dtype\": \"string\",\n        \"num_unique_values\": 85,\n        \"samples\": [\n          \"ChristopherColumbus\",\n          \"Paris\",\n          \"Christmas\"\n        ],\n        \"semantic_type\": \"\",\n        \"description\": \"\"\n      }\n    }\n  ]\n}"
            }
          },
          "metadata": {},
          "execution_count": 35
        }
      ]
    },
    {
      "cell_type": "code",
      "source": [
        "questions = df['question']\n",
        "print(questions.shape)\n",
        "answer = df['answer']\n",
        "print(answer.shape)"
      ],
      "metadata": {
        "colab": {
          "base_uri": "https://localhost:8080/"
        },
        "id": "n10HpZqnugMa",
        "outputId": "5ec44a62-0d03-4989-a85a-1cc86cb6eaba"
      },
      "execution_count": 36,
      "outputs": [
        {
          "output_type": "stream",
          "name": "stdout",
          "text": [
            "(90,)\n",
            "(90,)\n"
          ]
        }
      ]
    },
    {
      "cell_type": "code",
      "source": [
        "import re\n",
        "def clean_text(text):\n",
        "  text = text.lower()\n",
        "  text = re.sub(r'[^\\w\\s]', '', text)\n",
        "  return text.split()\n"
      ],
      "metadata": {
        "id": "3e6VUSQlunxa"
      },
      "execution_count": 37,
      "outputs": []
    },
    {
      "cell_type": "code",
      "source": [
        "vocab = {'UNK' : 0}\n",
        "\n",
        "def build_vocab(text) :\n",
        "  for sentence in text :\n",
        "    tokens = clean_text(sentence)\n",
        "    for token in tokens :\n",
        "      if token not in vocab :\n",
        "        vocab[token] = len(vocab)\n",
        "\n",
        "\n",
        "build_vocab(questions)\n",
        "build_vocab(answer)\n",
        "\n",
        "print(vocab)\n",
        "len(vocab)"
      ],
      "metadata": {
        "colab": {
          "base_uri": "https://localhost:8080/"
        },
        "id": "1_HSgqFzvWVD",
        "outputId": "f89bf5f8-d7bb-4b43-faf5-81a32aca952a"
      },
      "execution_count": 38,
      "outputs": [
        {
          "output_type": "stream",
          "name": "stdout",
          "text": [
            "{'UNK': 0, 'what': 1, 'is': 2, 'the': 3, 'capital': 4, 'of': 5, 'france': 6, 'germany': 7, 'who': 8, 'wrote': 9, 'to': 10, 'kill': 11, 'a': 12, 'mockingbird': 13, 'largest': 14, 'planet': 15, 'in': 16, 'our': 17, 'solar': 18, 'system': 19, 'boiling': 20, 'point': 21, 'water': 22, 'celsius': 23, 'painted': 24, 'mona': 25, 'lisa': 26, 'square': 27, 'root': 28, '64': 29, 'chemical': 30, 'symbol': 31, 'for': 32, 'gold': 33, 'which': 34, 'year': 35, 'did': 36, 'world': 37, 'war': 38, 'ii': 39, 'end': 40, 'longest': 41, 'river': 42, 'japan': 43, 'developed': 44, 'theory': 45, 'relativity': 46, 'freezing': 47, 'fahrenheit': 48, 'known': 49, 'as': 50, 'red': 51, 'author': 52, '1984': 53, 'currency': 54, 'united': 55, 'kingdom': 56, 'india': 57, 'discovered': 58, 'gravity': 59, 'how': 60, 'many': 61, 'continents': 62, 'are': 63, 'there': 64, 'on': 65, 'earth': 66, 'gas': 67, 'do': 68, 'plants': 69, 'use': 70, 'photosynthesis': 71, 'smallest': 72, 'prime': 73, 'number': 74, 'invented': 75, 'telephone': 76, 'australia': 77, 'ocean': 78, 'speed': 79, 'light': 80, 'vacuum': 81, 'language': 82, 'spoken': 83, 'brazil': 84, 'penicillin': 85, 'canada': 86, 'mammal': 87, 'element': 88, 'has': 89, 'atomic': 90, '1': 91, 'tallest': 92, 'mountain': 93, 'city': 94, 'big': 95, 'apple': 96, 'planets': 97, 'starry': 98, 'night': 99, 'formula': 100, 'italy': 101, 'country': 102, 'famous': 103, 'sushi': 104, 'was': 105, 'first': 106, 'person': 107, 'step': 108, 'moon': 109, 'main': 110, 'ingredient': 111, 'guacamole': 112, 'sides': 113, 'does': 114, 'hexagon': 115, 'have': 116, 'china': 117, 'pride': 118, 'and': 119, 'prejudice': 120, 'iron': 121, 'hardest': 122, 'natural': 123, 'substance': 124, 'continent': 125, 'by': 126, 'area': 127, 'president': 128, 'states': 129, 'bird': 130, 'its': 131, 'ability': 132, 'mimic': 133, 'sounds': 134, 'longestrunning': 135, 'animated': 136, 'tv': 137, 'show': 138, 'most': 139, 'moons': 140, 'romeo': 141, 'juliet': 142, 'earths': 143, 'atmosphere': 144, 'bones': 145, 'adult': 146, 'human': 147, 'body': 148, 'metal': 149, 'liquid': 150, 'at': 151, 'room': 152, 'temperature': 153, 'russia': 154, 'electricity': 155, 'secondlargest': 156, 'land': 157, 'color': 158, 'ripe': 159, 'banana': 160, 'month': 161, '28': 162, 'days': 163, 'common': 164, 'study': 165, 'living': 166, 'organisms': 167, 'called': 168, 'home': 169, 'great': 170, 'wall': 171, 'bees': 172, 'collect': 173, 'from': 174, 'flowers': 175, 'opposite': 176, 'day': 177, 'south': 178, 'korea': 179, 'bulb': 180, 'humans': 181, 'breathe': 182, 'survival': 183, '144': 184, 'pyramids': 185, 'giza': 186, 'sea': 187, 'creature': 188, 'eight': 189, 'arms': 190, 'holiday': 191, 'celebrated': 192, 'december': 193, '25': 194, 'legs': 195, 'spider': 196, 'sport': 197, 'uses': 198, 'net': 199, 'ball': 200, 'hoop': 201, 'kangaroos': 202, 'female': 203, 'minister': 204, 'uk': 205, 'fastest': 206, 'animal': 207, 'periodic': 208, 'table': 209, 'spain': 210, 'closest': 211, 'sun': 212, 'father': 213, 'computers': 214, 'mexico': 215, 'colors': 216, 'rainbow': 217, 'musical': 218, 'instrument': 219, 'black': 220, 'white': 221, 'keys': 222, 'americas': 223, '1492': 224, 'disney': 225, 'character': 226, 'long': 227, 'nose': 228, 'grows': 229, 'it': 230, 'when': 231, 'lying': 232, 'directed': 233, 'movie': 234, 'titanic': 235, 'superhero': 236, 'also': 237, 'dark': 238, 'knight': 239, 'fruit': 240, 'king': 241, 'fruits': 242, 'eiffel': 243, 'tower': 244, 'paris': 245, 'berlin': 246, 'harperlee': 247, 'jupiter': 248, '100': 249, 'leonardodavinci': 250, '8': 251, 'au': 252, '1945': 253, 'nile': 254, 'tokyo': 255, 'alberteinstein': 256, '32': 257, 'mars': 258, 'georgeorwell': 259, 'pound': 260, 'delhi': 261, 'newton': 262, '7': 263, 'co2': 264, '2': 265, 'alexandergrahambell': 266, 'canberra': 267, 'pacificocean': 268, '299792458ms': 269, 'portuguese': 270, 'alexanderfleming': 271, 'ottawa': 272, 'whale': 273, 'hydrogen': 274, 'everest': 275, 'newyork': 276, 'vangogh': 277, 'h2o': 278, 'rome': 279, 'armstrong': 280, 'avocado': 281, '6': 282, 'yuan': 283, 'janeausten': 284, 'fe': 285, 'diamond': 286, 'asia': 287, 'georgewashington': 288, 'parrot': 289, 'simpsons': 290, 'vaticancity': 291, 'saturn': 292, 'shakespeare': 293, 'nitrogen': 294, '206': 295, 'mercury': 296, 'moscow': 297, 'benjaminfranklin': 298, 'yellow': 299, 'february': 300, 'biology': 301, 'nectar': 302, 'seoul': 303, 'edison': 304, 'oxygen': 305, '12': 306, 'egypt': 307, 'octopus': 308, 'christmas': 309, 'yen': 310, 'basketball': 311, 'margaretthatcher': 312, 'cheetah': 313, 'madrid': 314, 'charlesbabbage': 315, 'mexicocity': 316, 'piano': 317, 'christophercolumbus': 318, 'pinocchio': 319, 'jamescameron': 320, 'batman': 321, 'brasilia': 322, 'mango': 323}\n"
          ]
        },
        {
          "output_type": "execute_result",
          "data": {
            "text/plain": [
              "324"
            ]
          },
          "metadata": {},
          "execution_count": 38
        }
      ]
    },
    {
      "cell_type": "code",
      "source": [
        "def text_to_numbers(text) :\n",
        "  text_numerical = []\n",
        "  for word in text :\n",
        "    if word in vocab :\n",
        "      text_numerical.append(vocab[word])\n",
        "    else :\n",
        "      text_numerical.append(vocab['UNK'])\n",
        "  return text_numerical"
      ],
      "metadata": {
        "id": "343LN6cQv_wH"
      },
      "execution_count": 39,
      "outputs": []
    },
    {
      "cell_type": "code",
      "source": [
        "text_to_numbers(clean_text(questions[0]))"
      ],
      "metadata": {
        "colab": {
          "base_uri": "https://localhost:8080/"
        },
        "id": "X-nsCsfRxgb2",
        "outputId": "3a170a0d-309e-4046-c918-187ddd9567c3"
      },
      "execution_count": 40,
      "outputs": [
        {
          "output_type": "execute_result",
          "data": {
            "text/plain": [
              "[1, 2, 3, 4, 5, 6]"
            ]
          },
          "metadata": {},
          "execution_count": 40
        }
      ]
    },
    {
      "cell_type": "code",
      "source": [
        "from torch.utils.data import Dataset, DataLoader\n",
        "\n",
        "class QADataset(Dataset) :\n",
        "  def __init__(self, df, vocab) :\n",
        "    self.df = df\n",
        "    self.vocab = vocab\n",
        "\n",
        "  def __len__(self) :\n",
        "    return df.shape[0]\n",
        "\n",
        "  def __getitem__(self, idx) :\n",
        "    question_numerical = text_to_numbers(clean_text(df['question'][idx]))\n",
        "    answer_numerical = text_to_numbers(clean_text(df['answer'][idx]))\n",
        "    return torch.tensor(question_numerical, dtype = torch.long), torch.tensor(answer_numerical, dtype = torch.long)"
      ],
      "metadata": {
        "id": "2SuWBNrHxlKG"
      },
      "execution_count": 41,
      "outputs": []
    },
    {
      "cell_type": "code",
      "source": [
        "dataset = QADataset(df, vocab)\n",
        "\n",
        "print(dataset[0])\n",
        "print(len(dataset))"
      ],
      "metadata": {
        "colab": {
          "base_uri": "https://localhost:8080/"
        },
        "id": "FzBeq4I2ykE5",
        "outputId": "4540ff6e-f571-447c-a41e-92949026ed66"
      },
      "execution_count": 42,
      "outputs": [
        {
          "output_type": "stream",
          "name": "stdout",
          "text": [
            "(tensor([1, 2, 3, 4, 5, 6]), tensor([245]))\n",
            "90\n"
          ]
        }
      ]
    },
    {
      "cell_type": "code",
      "source": [
        "data_loader = DataLoader(dataset, batch_size=1, shuffle=True)"
      ],
      "metadata": {
        "id": "tH7TMlogyt8d"
      },
      "execution_count": 43,
      "outputs": []
    },
    {
      "cell_type": "code",
      "source": [
        "for batch_question , batch_answer in data_loader :\n",
        "  print(batch_question, batch_answer)\n",
        ""
      ],
      "metadata": {
        "colab": {
          "base_uri": "https://localhost:8080/"
        },
        "id": "WI1SVLRMzDYj",
        "outputId": "4972f88a-140d-41b7-b78a-ca7d45966edc"
      },
      "execution_count": 44,
      "outputs": [
        {
          "output_type": "stream",
          "name": "stdout",
          "text": [
            "tensor([[  1,   2,   3,  30, 100,   5,  22]]) tensor([[278]])\n",
            "tensor([[ 60,  61, 195, 114,  12, 196, 116]]) tensor([[251]])\n",
            "tensor([[ 8,  2,  3, 52,  5, 53]]) tensor([[259]])\n",
            "tensor([[ 8, 24, 98, 99]]) tensor([[277]])\n",
            "tensor([[  8,   2,  49,  50,   3, 213,   5, 214]]) tensor([[315]])\n",
            "tensor([[34, 82,  2, 83, 16, 84]]) tensor([[270]])\n",
            "tensor([[1, 2, 3, 4, 5, 7]]) tensor([[246]])\n",
            "tensor([[1, 2, 3, 4, 5, 6]]) tensor([[245]])\n",
            "tensor([[60, 61, 62, 63, 64, 65, 66]]) tensor([[263]])\n",
            "tensor([[  1,   2,   3, 135, 136, 137, 138]]) tensor([[290]])\n",
            "tensor([[34, 88, 89,  3, 90, 74, 91]]) tensor([[274]])\n",
            "tensor([[ 34, 191,   2, 192,  65, 193, 194]]) tensor([[309]])\n",
            "tensor([[ 8, 24,  3, 25, 26]]) tensor([[250]])\n",
            "tensor([[ 34, 240,   2,  49,  50,   3, 241,   5, 242]]) tensor([[323]])\n",
            "tensor([[ 1,  2,  3, 54,  5, 43]]) tensor([[310]])\n",
            "tensor([[ 1,  2,  3,  4,  5, 57]]) tensor([[261]])\n",
            "tensor([[ 34, 102,  89,   3, 185,   5, 186]]) tensor([[307]])\n",
            "tensor([[  1,   2,   3,  72, 102,  16,   3,  37]]) tensor([[291]])\n",
            "tensor([[  8,  75,   3,  80, 180]]) tensor([[304]])\n",
            "tensor([[ 34, 161,  89, 162, 163,  16,  12, 164,  35]]) tensor([[300]])\n",
            "tensor([[ 34, 218, 219,  89, 220, 119, 221, 222]]) tensor([[317]])\n",
            "tensor([[ 1,  2,  3, 30, 31, 32, 33]]) tensor([[252]])\n",
            "tensor([[  8, 105,   3, 106, 128,   5,   3,  55, 129]]) tensor([[288]])\n",
            "tensor([[ 1,  2,  3, 27, 28,  5, 29]]) tensor([[251]])\n",
            "tensor([[  1,   2,   3,  27,  28,   5, 184]]) tensor([[306]])\n",
            "tensor([[ 60,  61, 113, 114,  12, 115, 116]]) tensor([[282]])\n",
            "tensor([[  8,  58, 155]]) tensor([[298]])\n",
            "tensor([[ 1,  2,  3, 20, 21,  5, 22, 16, 23]]) tensor([[249]])\n",
            "tensor([[ 34,  67,  68, 181, 182,  16,  32, 183]]) tensor([[305]])\n",
            "tensor([[ 34, 102,   2, 103,  32, 104]]) tensor([[43]])\n",
            "tensor([[ 8, 58, 59]]) tensor([[262]])\n",
            "tensor([[  8, 105,   3, 106, 107,  10, 108,  65,   3, 109]]) tensor([[280]])\n",
            "tensor([[  1,   2,   3, 122, 123, 124,  65,  66]]) tensor([[286]])\n",
            "tensor([[  1,   2,   3, 110,  67,  16, 143, 144]]) tensor([[294]])\n",
            "tensor([[34, 67, 68, 69, 70, 32, 71]]) tensor([[264]])\n",
            "tensor([[34, 78,  2,  3, 14]]) tensor([[268]])\n",
            "tensor([[  1,   2,   3, 176,   5, 177]]) tensor([[99]])\n",
            "tensor([[ 34,  15,  89,   3, 139, 140]]) tensor([[292]])\n",
            "tensor([[ 60,  61, 145,  63,  16,   3, 146, 147, 148]]) tensor([[295]])\n",
            "tensor([[  1,   2,   3,   4,   5, 215]]) tensor([[316]])\n",
            "tensor([[ 34, 125,   2,   3,  14, 126, 127]]) tensor([[287]])\n",
            "tensor([[ 1,  2,  3,  4,  5, 86]]) tensor([[272]])\n",
            "tensor([[  1,  68, 172, 173, 174, 175]]) tensor([[302]])\n",
            "tensor([[  8,   9, 141, 119, 142]]) tensor([[293]])\n",
            "tensor([[ 34, 197, 198,  12, 199, 200, 119, 201]]) tensor([[311]])\n",
            "tensor([[  1,   2,   3,  54,   5, 117]]) tensor([[283]])\n",
            "tensor([[ 1,  2,  3, 14, 15, 16, 17, 18, 19]]) tensor([[248]])\n",
            "tensor([[ 1,  2,  3,  4,  5, 84]]) tensor([[322]])\n",
            "tensor([[ 1,  2,  3, 47, 21,  5, 22, 16, 48]]) tensor([[257]])\n",
            "tensor([[ 34, 102,   2, 103,  32, 131, 202]]) tensor([[77]])\n",
            "tensor([[ 34, 149,   2,  12, 150, 151, 152, 153]]) tensor([[296]])\n",
            "tensor([[ 1,  2,  3, 79,  5, 80, 16, 81]]) tensor([[269]])\n",
            "tensor([[  1,   2,   3,   4,   5, 101]]) tensor([[279]])\n",
            "tensor([[ 1,  2,  3,  4,  5, 43]]) tensor([[255]])\n",
            "tensor([[ 34,  15,   2,   3, 211,  10,   3, 212]]) tensor([[296]])\n",
            "tensor([[ 60,  61, 216,  63,  16,  12, 217]]) tensor([[263]])\n",
            "tensor([[  1,   2,   3,   4,   5, 210]]) tensor([[314]])\n",
            "tensor([[  1,   2,   3, 158,   5,  12, 159, 160]]) tensor([[299]])\n",
            "tensor([[ 1,  2,  3, 54,  5,  3, 55, 56]]) tensor([[260]])\n",
            "tensor([[ 34, 130,   2,  49,  32, 131, 132,  10, 133, 134]]) tensor([[289]])\n",
            "tensor([[  1,   2,   3,   4,   5, 178, 179]]) tensor([[303]])\n",
            "tensor([[ 1,  2,  3, 92, 93, 16,  3, 37]]) tensor([[275]])\n",
            "tensor([[ 34, 102,   2, 169,  10,   3, 170, 171]]) tensor([[117]])\n",
            "tensor([[60, 61, 97, 63, 16,  3, 18, 19]]) tensor([[251]])\n",
            "tensor([[ 8, 75,  3, 76]]) tensor([[266]])\n",
            "tensor([[ 1,  2,  3,  4,  5, 77]]) tensor([[267]])\n",
            "tensor([[ 8,  9, 10, 11, 12, 13]]) tensor([[247]])\n",
            "tensor([[ 34, 102,   2,  49,  32,   3, 243, 244]]) tensor([[6]])\n",
            "tensor([[  8, 105,   3, 106, 203,  73, 204,   5,   3, 205]]) tensor([[312]])\n",
            "tensor([[34, 94,  2, 49, 50,  3, 95, 96]]) tensor([[276]])\n",
            "tensor([[ 34, 187, 188,  89, 189, 190]]) tensor([[308]])\n",
            "tensor([[34, 15,  2, 49, 50,  3, 51, 15]]) tensor([[258]])\n",
            "tensor([[ 8, 58, 85]]) tensor([[271]])\n",
            "tensor([[  8,   9, 118, 119, 120]]) tensor([[284]])\n",
            "tensor([[34, 35, 36, 37, 38, 39, 40]]) tensor([[253]])\n",
            "tensor([[  1,   2,   3, 165,   5, 166, 167, 168]]) tensor([[301]])\n",
            "tensor([[ 34, 225, 226,  89,  12, 227, 228, 119, 229, 230, 231, 232]]) tensor([[319]])\n",
            "tensor([[ 8, 44,  3, 45,  5, 46]]) tensor([[256]])\n",
            "tensor([[ 34,   2,   3, 156, 102, 126, 157, 127]]) tensor([[86]])\n",
            "tensor([[  1,   2,   3, 106,  88,  65,   3, 208, 209]]) tensor([[274]])\n",
            "tensor([[  1,   2,   3, 110, 111,  16, 112]]) tensor([[281]])\n",
            "tensor([[ 1,  2,  3, 41, 42, 16,  3, 37]]) tensor([[254]])\n",
            "tensor([[ 34,   2,   3, 206, 157, 207]]) tensor([[313]])\n",
            "tensor([[  8,  58,   3, 223,  16, 224]]) tensor([[318]])\n",
            "tensor([[ 1,  2,  3, 72, 73, 74]]) tensor([[265]])\n",
            "tensor([[  1,   2,   3,   4,   5, 154]]) tensor([[297]])\n",
            "tensor([[ 34, 236,   2, 237,  49,  50,   3, 238, 239]]) tensor([[321]])\n",
            "tensor([[  1,   2,   3,  30,  31,  32, 121]]) tensor([[285]])\n",
            "tensor([[ 1,  2,  3, 14, 87, 65, 66]]) tensor([[273]])\n",
            "tensor([[  8, 233,   3, 234, 235]]) tensor([[320]])\n"
          ]
        }
      ]
    },
    {
      "cell_type": "code",
      "source": [
        "import torch.nn as nn\n",
        "\n",
        "class rnn_model(nn.Module) :\n",
        "  def __init__(self, vocab_size) :\n",
        "    super().__init__()\n",
        "    self.embedding = nn.Embedding(vocab_size, 50)\n",
        "    self.rnn = nn.RNN(50, 64, batch_first=True)\n",
        "    self.fc = nn.Linear(64, vocab_size)\n",
        "\n",
        "  def forward(self, question) :\n",
        "    embedded = self.embedding(question)\n",
        "    hidden, output = self.rnn(embedded)\n",
        "    output = self.fc(output.squeeze(0))\n",
        "    return output\n"
      ],
      "metadata": {
        "id": "OJKyTlbazKbP"
      },
      "execution_count": 51,
      "outputs": []
    },
    {
      "cell_type": "code",
      "source": [
        "x = nn.Embedding(324, embedding_dim=50)\n",
        "y = nn.RNN(50, 64, batch_first=True)\n",
        "z = nn.Linear(64, 324)\n",
        "\n",
        "a = dataset[0][0].reshape(1,6)\n",
        "print(\"shape of a:\", a.shape)\n",
        "b = x(a)\n",
        "print(\"shape of b:\", b.shape)\n",
        "c, d = y(b)\n",
        "print(\"shape of c:\", c.shape)\n",
        "print(\"shape of d:\", d.shape)\n",
        "\n",
        "e = z(d.squeeze(0))\n",
        "\n",
        "print(\"shape of e:\", e.shape)"
      ],
      "metadata": {
        "colab": {
          "base_uri": "https://localhost:8080/"
        },
        "id": "wvvkXtHv1tdN",
        "outputId": "c7e3a9e4-13cf-47ee-cdcd-fc7e7b72e049"
      },
      "execution_count": 50,
      "outputs": [
        {
          "output_type": "stream",
          "name": "stdout",
          "text": [
            "shape of a: torch.Size([1, 6])\n",
            "shape of b: torch.Size([1, 6, 50])\n",
            "shape of c: torch.Size([1, 6, 64])\n",
            "shape of d: torch.Size([1, 1, 64])\n",
            "shape of e: torch.Size([1, 324])\n"
          ]
        }
      ]
    },
    {
      "cell_type": "code",
      "source": [
        "model = rnn_model(len(vocab))"
      ],
      "metadata": {
        "id": "pI57yTV30pfp"
      },
      "execution_count": 52,
      "outputs": []
    },
    {
      "cell_type": "code",
      "source": [
        "learning_rate = 0.001\n",
        "epochs = 20\n",
        "loss_fn = nn.CrossEntropyLoss()\n",
        "optimizer = torch.optim.Adam(model.parameters(), lr=learning_rate)"
      ],
      "metadata": {
        "id": "Frw7SexC0tF6"
      },
      "execution_count": 53,
      "outputs": []
    },
    {
      "cell_type": "code",
      "source": [
        "for epoch in range(epochs) :\n",
        "  total_loss = 0.0\n",
        "  for batch_question, batch_answer in data_loader :\n",
        "    optimizer.zero_grad()\n",
        "    output = model(batch_question)\n",
        "    # print(output.shape)\n",
        "    # print(batch_answer.shape)\n",
        "    loss = loss_fn(output, batch_answer.view(-1))\n",
        "    loss.backward()\n",
        "    optimizer.step()\n",
        "    total_loss += loss.item()\n",
        "  print(f'Epoch {epoch+1}/{epochs}, Loss: {loss.item():.4f}')"
      ],
      "metadata": {
        "colab": {
          "base_uri": "https://localhost:8080/"
        },
        "id": "VPt1Kmq404uo",
        "outputId": "969f2902-6a6a-47f4-b474-663eb6b3b3d1"
      },
      "execution_count": 56,
      "outputs": [
        {
          "output_type": "stream",
          "name": "stdout",
          "text": [
            "Epoch 1/20, Loss: 0.0816\n",
            "Epoch 2/20, Loss: 0.0757\n",
            "Epoch 3/20, Loss: 0.0614\n",
            "Epoch 4/20, Loss: 0.0641\n",
            "Epoch 5/20, Loss: 0.0449\n",
            "Epoch 6/20, Loss: 0.0384\n",
            "Epoch 7/20, Loss: 0.0369\n",
            "Epoch 8/20, Loss: 0.0327\n",
            "Epoch 9/20, Loss: 0.0301\n",
            "Epoch 10/20, Loss: 0.0282\n",
            "Epoch 11/20, Loss: 0.0372\n",
            "Epoch 12/20, Loss: 0.0237\n",
            "Epoch 13/20, Loss: 0.0232\n",
            "Epoch 14/20, Loss: 0.0203\n",
            "Epoch 15/20, Loss: 0.0309\n",
            "Epoch 16/20, Loss: 0.0251\n",
            "Epoch 17/20, Loss: 0.0246\n",
            "Epoch 18/20, Loss: 0.0189\n",
            "Epoch 19/20, Loss: 0.0150\n",
            "Epoch 20/20, Loss: 0.0127\n"
          ]
        }
      ]
    },
    {
      "cell_type": "code",
      "source": [
        "def predict(model, question, threshold) :\n",
        "  question = clean_text(question)\n",
        "  question = text_to_numbers(question)\n",
        "  question = torch.tensor(question, dtype = torch.long)\n",
        "  question = question.reshape(1,-1)\n",
        "  output = model(question)\n",
        "  logits = torch.nn.functional.softmax(output, dim=1)\n",
        "  val, predicted = torch.max(output, 1)\n",
        "\n",
        "  if val > threshold :\n",
        "    return list(vocab.keys())[predicted]\n",
        "  else :\n",
        "    return 'i dont know'\n"
      ],
      "metadata": {
        "id": "apiIn9us1I6M"
      },
      "execution_count": 67,
      "outputs": []
    },
    {
      "cell_type": "code",
      "source": [
        "print(df['question'][0])\n",
        "predict(model, df['question'][0], 0.5)"
      ],
      "metadata": {
        "colab": {
          "base_uri": "https://localhost:8080/",
          "height": 53
        },
        "id": "kSJvMy5j2zN9",
        "outputId": "74d7bd0c-8ecd-44a1-d4d8-6319f2b42764"
      },
      "execution_count": 66,
      "outputs": [
        {
          "output_type": "stream",
          "name": "stdout",
          "text": [
            "What is the capital of France?\n"
          ]
        },
        {
          "output_type": "execute_result",
          "data": {
            "text/plain": [
              "'paris'"
            ],
            "application/vnd.google.colaboratory.intrinsic+json": {
              "type": "string"
            }
          },
          "metadata": {},
          "execution_count": 66
        }
      ]
    },
    {
      "cell_type": "code",
      "source": [],
      "metadata": {
        "id": "aRjhhTZi25VS"
      },
      "execution_count": null,
      "outputs": []
    }
  ]
}